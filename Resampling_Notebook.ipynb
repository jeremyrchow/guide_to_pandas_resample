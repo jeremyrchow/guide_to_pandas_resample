{
 "cells": [
  {
   "cell_type": "markdown",
   "metadata": {},
   "source": [
    "# Pandas.DataFrame.resample() Guide\n",
    "by Jeremy Chow\n",
    "\n",
    "9/10/2019\n",
    "\n",
    "Notebook made using Pandas version 0.24.2"
   ]
  },
  {
   "cell_type": "code",
   "execution_count": 135,
   "metadata": {},
   "outputs": [],
   "source": [
    "import pandas as pd"
   ]
  },
  {
   "cell_type": "markdown",
   "metadata": {},
   "source": [
    "# Resampling Example Rules"
   ]
  },
  {
   "cell_type": "markdown",
   "metadata": {},
   "source": [
    "### Downsampling Minutes to Every Other Minute"
   ]
  },
  {
   "cell_type": "code",
   "execution_count": 140,
   "metadata": {},
   "outputs": [],
   "source": [
    "def new_dataset(rule,num_points = 9):\n",
    "    '''\n",
    "    Generate a new timeseries dataset using intervals in rule string\n",
    "    and number of points num_points\n",
    "    \n",
    "    Returns a series object\n",
    "    '''\n",
    "    ind = pd.date_range('1/1/2000', periods=num_points, freq=rule)\n",
    "    return pd.Series(list(map(lambda x: x*2,range(num_points))), index=ind)"
   ]
  },
  {
   "cell_type": "code",
   "execution_count": 144,
   "metadata": {
    "scrolled": true
   },
   "outputs": [
    {
     "data": {
      "text/plain": [
       "2000-01-01 00:00:00     0\n",
       "2000-01-01 00:01:00     2\n",
       "2000-01-01 00:02:00     4\n",
       "2000-01-01 00:03:00     6\n",
       "2000-01-01 00:04:00     8\n",
       "2000-01-01 00:05:00    10\n",
       "2000-01-01 00:06:00    12\n",
       "2000-01-01 00:07:00    14\n",
       "2000-01-01 00:08:00    16\n",
       "Freq: T, dtype: int64"
      ]
     },
     "execution_count": 144,
     "metadata": {},
     "output_type": "execute_result"
    }
   ],
   "source": [
    "minutes = new_dataset('min')\n",
    "minutes"
   ]
  },
  {
   "cell_type": "code",
   "execution_count": 145,
   "metadata": {},
   "outputs": [
    {
     "data": {
      "text/plain": [
       "2000-01-01 00:00:00     2\n",
       "2000-01-01 00:02:00    10\n",
       "2000-01-01 00:04:00    18\n",
       "2000-01-01 00:06:00    26\n",
       "2000-01-01 00:08:00    16\n",
       "Freq: 2T, dtype: int64"
      ]
     },
     "execution_count": 145,
     "metadata": {},
     "output_type": "execute_result"
    }
   ],
   "source": [
    "minutes.resample('2min',axis=0).sum()"
   ]
  },
  {
   "cell_type": "markdown",
   "metadata": {},
   "source": [
    "### Upsampling Months to Bimonthly"
   ]
  },
  {
   "cell_type": "code",
   "execution_count": 146,
   "metadata": {},
   "outputs": [
    {
     "data": {
      "text/plain": [
       "2000-01-31    0\n",
       "2000-02-29    2\n",
       "2000-03-31    4\n",
       "2000-04-30    6\n",
       "2000-05-31    8\n",
       "Freq: M, dtype: int64"
      ]
     },
     "execution_count": 146,
     "metadata": {},
     "output_type": "execute_result"
    }
   ],
   "source": [
    "months = new_dataset('M',5)\n",
    "months"
   ]
  },
  {
   "cell_type": "code",
   "execution_count": 147,
   "metadata": {},
   "outputs": [
    {
     "name": "stdout",
     "output_type": "stream",
     "text": [
      "Forward Fill\n",
      "2000-03-15    2.0\n",
      "2000-04-01    4.0\n",
      "2000-04-15    4.0\n",
      "2000-05-01    6.0\n",
      "2000-05-15    6.0\n",
      "Freq: SMS-15, dtype: float64\n",
      "Backward Fill\n",
      "2000-03-15    4\n",
      "2000-04-01    6\n",
      "2000-04-15    6\n",
      "2000-05-01    8\n",
      "2000-05-15    8\n",
      "Freq: SMS-15, dtype: int64\n"
     ]
    }
   ],
   "source": [
    "# ffill is Forward Fill, takes value of previous existing months point.\n",
    "print('Forward Fill')\n",
    "print(months.resample('SMS').ffill().tail())\n",
    "\n",
    "# Alternatie to ffill is bfill (backward fill) that takes value of next existing months point\n",
    "print('Backward Fill')\n",
    "print(months.resample('SMS').bfill().tail())"
   ]
  },
  {
   "cell_type": "markdown",
   "metadata": {},
   "source": [
    "### Upsample with NaNs Using asfreq()"
   ]
  },
  {
   "cell_type": "code",
   "execution_count": 148,
   "metadata": {
    "scrolled": true
   },
   "outputs": [
    {
     "data": {
      "text/plain": [
       "2000-01-01 00:00:00     0\n",
       "2000-01-01 00:01:00     2\n",
       "2000-01-01 00:02:00     4\n",
       "2000-01-01 00:03:00     6\n",
       "2000-01-01 00:04:00     8\n",
       "2000-01-01 00:05:00    10\n",
       "2000-01-01 00:06:00    12\n",
       "2000-01-01 00:07:00    14\n",
       "2000-01-01 00:08:00    16\n",
       "Freq: T, dtype: int64"
      ]
     },
     "execution_count": 148,
     "metadata": {},
     "output_type": "execute_result"
    }
   ],
   "source": [
    "minutes"
   ]
  },
  {
   "cell_type": "code",
   "execution_count": 149,
   "metadata": {},
   "outputs": [
    {
     "data": {
      "text/plain": [
       "2000-01-01 00:00:00     0.0\n",
       "2000-01-01 00:00:30     NaN\n",
       "2000-01-01 00:01:00     2.0\n",
       "2000-01-01 00:01:30     NaN\n",
       "2000-01-01 00:02:00     4.0\n",
       "2000-01-01 00:02:30     NaN\n",
       "2000-01-01 00:03:00     6.0\n",
       "2000-01-01 00:03:30     NaN\n",
       "2000-01-01 00:04:00     8.0\n",
       "2000-01-01 00:04:30     NaN\n",
       "2000-01-01 00:05:00    10.0\n",
       "2000-01-01 00:05:30     NaN\n",
       "2000-01-01 00:06:00    12.0\n",
       "2000-01-01 00:06:30     NaN\n",
       "2000-01-01 00:07:00    14.0\n",
       "2000-01-01 00:07:30     NaN\n",
       "2000-01-01 00:08:00    16.0\n",
       "Freq: 30S, dtype: float64"
      ]
     },
     "execution_count": 149,
     "metadata": {},
     "output_type": "execute_result"
    }
   ],
   "source": [
    "minutes.resample('.5min').asfreq()"
   ]
  },
  {
   "cell_type": "markdown",
   "metadata": {},
   "source": [
    "### Example of Complex Rule Strings"
   ]
  },
  {
   "cell_type": "code",
   "execution_count": 150,
   "metadata": {},
   "outputs": [
    {
     "data": {
      "text/plain": [
       "2000-01-31    0\n",
       "2000-02-29    2\n",
       "2000-03-31    4\n",
       "2000-04-30    6\n",
       "2000-05-31    8\n",
       "Freq: M, dtype: int64"
      ]
     },
     "execution_count": 150,
     "metadata": {},
     "output_type": "execute_result"
    }
   ],
   "source": [
    "months"
   ]
  },
  {
   "cell_type": "code",
   "execution_count": 151,
   "metadata": {},
   "outputs": [
    {
     "data": {
      "text/plain": [
       "2000-01-31 00:00:00    0\n",
       "2000-02-03 07:33:00    0\n",
       "2000-02-06 15:06:00    0\n",
       "2000-02-09 22:39:00    0\n",
       "2000-02-13 06:12:00    0\n",
       "2000-02-16 13:45:00    0\n",
       "2000-02-19 21:18:00    0\n",
       "2000-02-23 04:51:00    0\n",
       "2000-02-26 12:24:00    2\n",
       "2000-02-29 19:57:00    0\n",
       "Freq: 4773T, dtype: int64"
      ]
     },
     "execution_count": 151,
     "metadata": {},
     "output_type": "execute_result"
    }
   ],
   "source": [
    "months.resample('3D7H30min180S',kind='timestamp').sum().head(10)"
   ]
  },
  {
   "cell_type": "markdown",
   "metadata": {},
   "source": [
    "# Arguments\n"
   ]
  },
  {
   "cell_type": "markdown",
   "metadata": {},
   "source": [
    "### Closed \n",
    "{'right', 'left'}, default None\n",
    "\n",
    "As per the documentation:\n",
    ">Which side of bin interval is closed. The default is 'left'\n",
    "    for all frequency offsets except for 'M', 'A', 'Q', 'BM',\n",
    "    'BA', 'BQ', and 'W' which all have a default of 'right'.\n",
    "    \n",
    "The closed argument tells which side is included, 'closed' being the included side in the calculation for each time interval. You can see how it behaves here:"
   ]
  },
  {
   "cell_type": "code",
   "execution_count": 162,
   "metadata": {},
   "outputs": [
    {
     "data": {
      "text/plain": [
       "2000-01-01 00:00:00     0\n",
       "2000-01-01 00:01:00     2\n",
       "2000-01-01 00:02:00     4\n",
       "2000-01-01 00:03:00     6\n",
       "2000-01-01 00:04:00     8\n",
       "2000-01-01 00:05:00    10\n",
       "2000-01-01 00:06:00    12\n",
       "2000-01-01 00:07:00    14\n",
       "2000-01-01 00:08:00    16\n",
       "Freq: T, dtype: int64"
      ]
     },
     "execution_count": 162,
     "metadata": {},
     "output_type": "execute_result"
    }
   ],
   "source": [
    "minutes"
   ]
  },
  {
   "cell_type": "code",
   "execution_count": 177,
   "metadata": {},
   "outputs": [
    {
     "data": {
      "text/html": [
       "<div>\n",
       "<style scoped>\n",
       "    .dataframe tbody tr th:only-of-type {\n",
       "        vertical-align: middle;\n",
       "    }\n",
       "\n",
       "    .dataframe tbody tr th {\n",
       "        vertical-align: top;\n",
       "    }\n",
       "\n",
       "    .dataframe thead th {\n",
       "        text-align: right;\n",
       "    }\n",
       "</style>\n",
       "<table border=\"1\" class=\"dataframe\">\n",
       "  <thead>\n",
       "    <tr style=\"text-align: right;\">\n",
       "      <th></th>\n",
       "      <th>left</th>\n",
       "      <th>right</th>\n",
       "    </tr>\n",
       "  </thead>\n",
       "  <tbody>\n",
       "    <tr>\n",
       "      <th>2000-01-01 00:00:00</th>\n",
       "      <td>2</td>\n",
       "      <td>6.0</td>\n",
       "    </tr>\n",
       "    <tr>\n",
       "      <th>2000-01-01 00:02:00</th>\n",
       "      <td>10</td>\n",
       "      <td>14.0</td>\n",
       "    </tr>\n",
       "    <tr>\n",
       "      <th>2000-01-01 00:04:00</th>\n",
       "      <td>18</td>\n",
       "      <td>22.0</td>\n",
       "    </tr>\n",
       "    <tr>\n",
       "      <th>2000-01-01 00:06:00</th>\n",
       "      <td>26</td>\n",
       "      <td>30.0</td>\n",
       "    </tr>\n",
       "    <tr>\n",
       "      <th>2000-01-01 00:08:00</th>\n",
       "      <td>16</td>\n",
       "      <td>NaN</td>\n",
       "    </tr>\n",
       "  </tbody>\n",
       "</table>\n",
       "</div>"
      ],
      "text/plain": [
       "                     left  right\n",
       "2000-01-01 00:00:00     2    6.0\n",
       "2000-01-01 00:02:00    10   14.0\n",
       "2000-01-01 00:04:00    18   22.0\n",
       "2000-01-01 00:06:00    26   30.0\n",
       "2000-01-01 00:08:00    16    NaN"
      ]
     },
     "execution_count": 177,
     "metadata": {},
     "output_type": "execute_result"
    }
   ],
   "source": [
    "# The default is closed='left'\n",
    "df=pd.DataFrame()\n",
    "df['left'] = minutes.resample('2min').sum()\n",
    "df['right'] = minutes.resample('2min',closed='right').sum()\n",
    "df"
   ]
  },
  {
   "cell_type": "markdown",
   "metadata": {},
   "source": [
    "### Label\n",
    "{'right', 'left'}, default None\n",
    "\n",
    "Documentation\n",
    ">Which bin edge label to label bucket with. The default is 'left'\n",
    "    for all frequency offsets except for 'M', 'A', 'Q', 'BM',\n",
    "    'BA', 'BQ', and 'W' which all have a default of 'right'.\n",
    "\n",
    "This argument does not change the underlying calculation, it just relables the output based on the desired edge once the aggregation is performed."
   ]
  },
  {
   "cell_type": "code",
   "execution_count": 186,
   "metadata": {},
   "outputs": [
    {
     "data": {
      "text/html": [
       "<div>\n",
       "<style scoped>\n",
       "    .dataframe tbody tr th:only-of-type {\n",
       "        vertical-align: middle;\n",
       "    }\n",
       "\n",
       "    .dataframe tbody tr th {\n",
       "        vertical-align: top;\n",
       "    }\n",
       "\n",
       "    .dataframe thead th {\n",
       "        text-align: right;\n",
       "    }\n",
       "</style>\n",
       "<table border=\"1\" class=\"dataframe\">\n",
       "  <thead>\n",
       "    <tr style=\"text-align: right;\">\n",
       "      <th></th>\n",
       "      <th>left</th>\n",
       "      <th>right</th>\n",
       "    </tr>\n",
       "  </thead>\n",
       "  <tbody>\n",
       "    <tr>\n",
       "      <th>2000-01-01 00:00:00</th>\n",
       "      <td>2</td>\n",
       "      <td>NaN</td>\n",
       "    </tr>\n",
       "    <tr>\n",
       "      <th>2000-01-01 00:02:00</th>\n",
       "      <td>10</td>\n",
       "      <td>2.0</td>\n",
       "    </tr>\n",
       "    <tr>\n",
       "      <th>2000-01-01 00:04:00</th>\n",
       "      <td>18</td>\n",
       "      <td>10.0</td>\n",
       "    </tr>\n",
       "    <tr>\n",
       "      <th>2000-01-01 00:06:00</th>\n",
       "      <td>26</td>\n",
       "      <td>18.0</td>\n",
       "    </tr>\n",
       "    <tr>\n",
       "      <th>2000-01-01 00:08:00</th>\n",
       "      <td>16</td>\n",
       "      <td>26.0</td>\n",
       "    </tr>\n",
       "  </tbody>\n",
       "</table>\n",
       "</div>"
      ],
      "text/plain": [
       "                     left  right\n",
       "2000-01-01 00:00:00     2    NaN\n",
       "2000-01-01 00:02:00    10    2.0\n",
       "2000-01-01 00:04:00    18   10.0\n",
       "2000-01-01 00:06:00    26   18.0\n",
       "2000-01-01 00:08:00    16   26.0"
      ]
     },
     "execution_count": 186,
     "metadata": {},
     "output_type": "execute_result"
    }
   ],
   "source": [
    "df=pd.DataFrame()\n",
    "# Label default is left\n",
    "df['left'] = minutes.resample('2min').sum()\n",
    "df['right'] = minutes.resample('2min',label='right').sum()\n",
    "df"
   ]
  },
  {
   "cell_type": "markdown",
   "metadata": {},
   "source": [
    "### LOffset\n",
    "{'right', 'left'}, default None\n",
    "\n",
    "This argument is also pretty self explanatory. Instead of changing any of the calculations, it just bumps the labels over by the specified amount of time."
   ]
  },
  {
   "cell_type": "code",
   "execution_count": 162,
   "metadata": {},
   "outputs": [
    {
     "data": {
      "text/plain": [
       "2000-01-01 00:00:00     0\n",
       "2000-01-01 00:01:00     2\n",
       "2000-01-01 00:02:00     4\n",
       "2000-01-01 00:03:00     6\n",
       "2000-01-01 00:04:00     8\n",
       "2000-01-01 00:05:00    10\n",
       "2000-01-01 00:06:00    12\n",
       "2000-01-01 00:07:00    14\n",
       "2000-01-01 00:08:00    16\n",
       "Freq: T, dtype: int64"
      ]
     },
     "execution_count": 162,
     "metadata": {},
     "output_type": "execute_result"
    }
   ],
   "source": [
    "minutes"
   ]
  },
  {
   "cell_type": "code",
   "execution_count": 183,
   "metadata": {},
   "outputs": [
    {
     "data": {
      "text/html": [
       "<div>\n",
       "<style scoped>\n",
       "    .dataframe tbody tr th:only-of-type {\n",
       "        vertical-align: middle;\n",
       "    }\n",
       "\n",
       "    .dataframe tbody tr th {\n",
       "        vertical-align: top;\n",
       "    }\n",
       "\n",
       "    .dataframe thead th {\n",
       "        text-align: right;\n",
       "    }\n",
       "</style>\n",
       "<table border=\"1\" class=\"dataframe\">\n",
       "  <thead>\n",
       "    <tr style=\"text-align: right;\">\n",
       "      <th></th>\n",
       "      <th>no_offset</th>\n",
       "      <th>2min_offset</th>\n",
       "      <th>4min_offset</th>\n",
       "    </tr>\n",
       "  </thead>\n",
       "  <tbody>\n",
       "    <tr>\n",
       "      <th>2000-01-01 00:00:00</th>\n",
       "      <td>2</td>\n",
       "      <td>NaN</td>\n",
       "      <td>NaN</td>\n",
       "    </tr>\n",
       "    <tr>\n",
       "      <th>2000-01-01 00:02:00</th>\n",
       "      <td>10</td>\n",
       "      <td>2.0</td>\n",
       "      <td>NaN</td>\n",
       "    </tr>\n",
       "    <tr>\n",
       "      <th>2000-01-01 00:04:00</th>\n",
       "      <td>18</td>\n",
       "      <td>10.0</td>\n",
       "      <td>2.0</td>\n",
       "    </tr>\n",
       "    <tr>\n",
       "      <th>2000-01-01 00:06:00</th>\n",
       "      <td>26</td>\n",
       "      <td>18.0</td>\n",
       "      <td>10.0</td>\n",
       "    </tr>\n",
       "    <tr>\n",
       "      <th>2000-01-01 00:08:00</th>\n",
       "      <td>16</td>\n",
       "      <td>26.0</td>\n",
       "      <td>18.0</td>\n",
       "    </tr>\n",
       "  </tbody>\n",
       "</table>\n",
       "</div>"
      ],
      "text/plain": [
       "                     no_offset  2min_offset  4min_offset\n",
       "2000-01-01 00:00:00          2          NaN          NaN\n",
       "2000-01-01 00:02:00         10          2.0          NaN\n",
       "2000-01-01 00:04:00         18         10.0          2.0\n",
       "2000-01-01 00:06:00         26         18.0         10.0\n",
       "2000-01-01 00:08:00         16         26.0         18.0"
      ]
     },
     "execution_count": 183,
     "metadata": {},
     "output_type": "execute_result"
    }
   ],
   "source": [
    "df=pd.DataFrame()\n",
    "df['no_offset'] = minutes.resample('2min').sum()\n",
    "df['2min_offset'] = minutes.resample('2min',loffset='2T').sum()\n",
    "df['4min_offset'] = minutes.resample('2min',loffset='4T').sum()\n",
    "df"
   ]
  },
  {
   "cell_type": "markdown",
   "metadata": {},
   "source": [
    "### Base\n",
    "\n",
    "Shifts the base time to calculate from by some time amount. As the documentation describes it, this function moves the 'origin'."
   ]
  },
  {
   "cell_type": "code",
   "execution_count": 208,
   "metadata": {},
   "outputs": [
    {
     "data": {
      "text/plain": [
       "2000-01-01 00:00:00    0\n",
       "2000-01-01 00:00:30    0\n",
       "2000-01-01 00:01:00    2\n",
       "2000-01-01 00:01:30    0\n",
       "2000-01-01 00:02:00    4\n",
       "2000-01-01 00:02:30    0\n",
       "2000-01-01 00:03:00    6\n",
       "2000-01-01 00:03:30    0\n",
       "2000-01-01 00:04:00    8\n",
       "Freq: 30S, dtype: int64"
      ]
     },
     "execution_count": 208,
     "metadata": {},
     "output_type": "execute_result"
    }
   ],
   "source": [
    "minutes.head().resample('30S').sum()"
   ]
  },
  {
   "cell_type": "code",
   "execution_count": 211,
   "metadata": {},
   "outputs": [
    {
     "data": {
      "text/plain": [
       "1999-12-31 23:59:45    0\n",
       "2000-01-01 00:00:15    0\n",
       "2000-01-01 00:00:45    2\n",
       "2000-01-01 00:01:15    0\n",
       "2000-01-01 00:01:45    4\n",
       "2000-01-01 00:02:15    0\n",
       "2000-01-01 00:02:45    6\n",
       "2000-01-01 00:03:15    0\n",
       "2000-01-01 00:03:45    8\n",
       "Freq: 30S, dtype: int64"
      ]
     },
     "execution_count": 211,
     "metadata": {},
     "output_type": "execute_result"
    }
   ],
   "source": [
    "minutes.head().resample('30S',base=15).sum()"
   ]
  },
  {
   "cell_type": "code",
   "execution_count": 216,
   "metadata": {},
   "outputs": [
    {
     "data": {
      "text/plain": [
       "2000-01-16 05:30:00    0\n",
       "2000-01-31 10:30:00    0\n",
       "2000-02-15 15:30:00    2\n",
       "2000-03-01 20:30:00    0\n",
       "2000-03-17 01:30:00    4\n",
       "2000-04-01 06:30:00    0\n",
       "2000-04-16 11:30:00    6\n",
       "2000-05-01 16:30:00    0\n",
       "2000-05-16 21:30:00    8\n",
       "Freq: 365H, dtype: int64"
      ]
     },
     "execution_count": 216,
     "metadata": {},
     "output_type": "execute_result"
    }
   ],
   "source": [
    "months.resample('15D5H',base=10.5).sum()"
   ]
  },
  {
   "cell_type": "code",
   "execution_count": null,
   "metadata": {},
   "outputs": [],
   "source": []
  }
 ],
 "metadata": {
  "kernelspec": {
   "display_name": "Python 3",
   "language": "python",
   "name": "python3"
  },
  "language_info": {
   "codemirror_mode": {
    "name": "ipython",
    "version": 3
   },
   "file_extension": ".py",
   "mimetype": "text/x-python",
   "name": "python",
   "nbconvert_exporter": "python",
   "pygments_lexer": "ipython3",
   "version": "3.7.3"
  }
 },
 "nbformat": 4,
 "nbformat_minor": 2
}
